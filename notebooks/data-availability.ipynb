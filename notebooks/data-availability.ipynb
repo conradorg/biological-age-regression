{
 "cells": [
  {
   "cell_type": "markdown",
   "id": "19e95766",
   "metadata": {},
   "source": [
    "# Check Availability of all features in other years of NHANES dataset "
   ]
  },
  {
   "cell_type": "code",
   "execution_count": 24,
   "id": "78890e7e",
   "metadata": {},
   "outputs": [],
   "source": [
    "biomarker2fileprefix = {\n",
    "    \"LBDSALSI\": \"BIOPRO\",  # g/L\n",
    "    \"LBDSCRSI\": \"BIOPRO\",  # umol/L\n",
    "    \"LBDSGLSI\": \"BIOPRO\",  # mmol/L\n",
    "    \"LBXHSCRP\": \"HSCRP\",  # mg/L\n",
    "    \"LBXLYPCT\": \"CBC\",  # %\n",
    "    \"LBXMCVSI\": \"CBC\",  # fL\n",
    "    \"LBXRDW\": \"CBC\",  # %\n",
    "    \"LBXSAPSI\": \"BIOPRO\",  # U/L\n",
    "    \"LBXWBCSI\": \"CBC\",  # 1000 cells/uL\n",
    "    \"RIDAGEYR\": \"DEMO\",  # Years\n",
    "}\n",
    "biomarker2description = {\n",
    "    \"LBDSALSI\":         \"Albumin, refrigerated serum(g/L)\",\n",
    "    \"LBDSCRSI\":         \"Creatinine, refrigerated serum (umol/L)\",\n",
    "    \"LBDSGLSI\":         \"Glucose, refrigerated serum (mmol/L)\",  # mmol/L\n",
    "    \"LBXHSCRP\":         \"High-Sensitivity C-Reactive Protein (hs-CRP) (mg/L)\",  # TODO: mg/L -> log(mg/dL) (for phenoage calculation)\n",
    "    \"LBXLYPCT\":         \"Lymphocyte percent (%)\",  # %\n",
    "    \"LBXMCVSI\":         \"Mean cell volume (fL)\",  # fL\n",
    "    \"LBXRDW\":           \"Red cell distribution width (%)\",  # %\n",
    "    \"LBXSAPSI\":         \"Alkaline Phosphatase (ALP) (IU/L)\",  # IU/L == U/L\n",
    "    \"LBXWBCSI\":         \"White blood cell count (1000 cells/uL)\",  # 1000 cells/uL\n",
    "    \"RIDAGEYR\":         \"Age in years of the participant at the time of screening. Individuals 80 and over are topcoded at 80 years of age.\",  # Years\n",
    "    \"LBXHSCRP_mg_dL\":   \"[self-calculated] High-Sensitivity C-Reactive Protein (hs-CRP) (mg/L)\"   # mg/dL\n",
    "}\n",
    "feature2description = {\n",
    "    \"RIDAGEYR\": \"Age in years of the participant at the time of screening. Individuals 80 and over are topcoded at 80 years of age.\",\n",
    "    \"RIAGENDR\": \"Gender of the participant.\",\n",
    "    \"BMXHT\": \"Standing Height (cm)\",\n",
    "    \"BMXWAIST\": \"Waist Circumference (cm)\",\n",
    "    \"BMXWT\": \"Weight (kg)\",\n",
    "    \"PAD680\": \"(Minutes) The following question is about sitting at school, at home, getting to and from places, or with friends including time spent sitting at a desk, traveling in a car or bus, reading, playing cards, watching television, or using a computer. Do not include time spent sleeping. How much time {do you/does SP} usually spend sitting on a typical day?\",\n",
    "    \"SMQ020\": \"These next questions are about cigarette smoking and other tobacco use. {Have you/Has SP} smoked at least 100 cigarettes in {your/his/her} entire life?\",\n",
    "    \"ALQ121\": \"ALQ121 - Past 12 mo how often have alcohol drink\",\n",
    "    \"SLD012\": \"Number of hours usually sleep on weekdays or workdays.\",\n",
    "    \"SLD013\": \"Number of hours usually sleep on weekends or non-workdays.\",\n",
    "}\n",
    "feature2fileprefix = {\n",
    "    \"RIDAGEYR\": \"DEMO\",\n",
    "    \"RIAGENDR\": \"DEMO\",\n",
    "    \"BMXHT\": \"BMX\",\n",
    "    \"BMXWAIST\": \"BMX\",\n",
    "    \"BMXWT\": \"BMX\",\n",
    "    \"PAD680\": \"PAQ\",\n",
    "    \"SMQ020\": \"SMQ\",\n",
    "    \"ALQ121\": \"ALQ\",\n",
    "    \"SLD012\": \"SLQ\",\n",
    "    \"SLD013\": \"SLQ\",\n",
    "}"
   ]
  },
  {
   "cell_type": "code",
   "execution_count": 27,
   "id": "db5497a9",
   "metadata": {},
   "outputs": [
    {
     "name": "stdout",
     "output_type": "stream",
     "text": [
      "['ALQ' 'BIOPRO' 'BMX' 'CBC' 'DEMO' 'HSCRP' 'PAQ' 'SLQ' 'SMQ']\n"
     ]
    }
   ],
   "source": [
    "import numpy as np\n",
    "unique_file_prefixes = np.unique(list((biomarker2fileprefix | feature2fileprefix).values()))\n",
    "print(unique_file_prefixes)"
   ]
  },
  {
   "cell_type": "code",
   "execution_count": 28,
   "id": "6cf0be68",
   "metadata": {},
   "outputs": [
    {
     "data": {
      "text/plain": [
       "'https://wwwn.cdc.gov/Nchs/Data/Nhanes/Public/2015/DataFiles/'"
      ]
     },
     "execution_count": 28,
     "metadata": {},
     "output_type": "execute_result"
    }
   ],
   "source": [
    "year = 2015\n",
    "base_url = f\"https://wwwn.cdc.gov/Nchs/Data/Nhanes/Public/{str(year)}/DataFiles/\"\n",
    "base_url"
   ]
  },
  {
   "cell_type": "code",
   "execution_count": 29,
   "id": "0022f6df",
   "metadata": {},
   "outputs": [],
   "source": [
    "# download all files to data directory\n",
    "import requests\n",
    "import os\n",
    "\n",
    "def download_file(url, filename):\n",
    "    response = requests.get(url)\n",
    "    with open(filename, mode=\"wb\") as file:\n",
    "        file.write(response.content)\n",
    "\n",
    "def get_nhanes_suffix(year):\n",
    "    \"\"\"get NHANES suffix for a specific start year\"\"\"\n",
    "    suffixes = {\n",
    "        1999: \"A\",\n",
    "        2001: \"B\",\n",
    "        2003: \"C\",\n",
    "        2005: \"D\",\n",
    "        2007: \"E\",\n",
    "        2009: \"F\",\n",
    "        2011: \"G\",\n",
    "        2013: \"H\",\n",
    "        2015: \"I\",\n",
    "        2017: \"J\",\n",
    "        2019: \"K\",\n",
    "        2021: \"L\"\n",
    "    }\n",
    "    if year in suffixes:\n",
    "        return f\"_{suffixes[year]}\"\n",
    "    else:\n",
    "        raise ValueError(f\"no NHANES suffix known for year {year}\")\n",
    "\n",
    "def get_nhanes_url(year, file_prefix):\n",
    "    return f\"https://wwwn.cdc.gov/Nchs/Data/Nhanes/Public/{str(year)}/DataFiles/{file_prefix}_{get_nhanes_suffix(year)}.xpt\"\n",
    "\n",
    "data_path = os.path.join(\"..\", \"data\", str(year))\n",
    "for file_prefix in unique_file_prefixes:\n",
    "    os.makedirs(data_path, exist_ok=True)\n",
    "    file_url = get_nhanes_url(year, file_prefix)\n",
    "    download_file(file_url, os.path.join(data_path, file))"
   ]
  },
  {
   "cell_type": "code",
   "execution_count": null,
   "id": "bef340ac",
   "metadata": {},
   "outputs": [
    {
     "ename": "ValueError",
     "evalue": "Header record is not an XPORT file.",
     "output_type": "error",
     "traceback": [
      "\u001b[31m---------------------------------------------------------------------------\u001b[39m",
      "\u001b[31mValueError\u001b[39m                                Traceback (most recent call last)",
      "\u001b[36mCell\u001b[39m\u001b[36m \u001b[39m\u001b[32mIn[17]\u001b[39m\u001b[32m, line 2\u001b[39m\n\u001b[32m      1\u001b[39m \u001b[38;5;28;01mimport\u001b[39;00m\u001b[38;5;250m \u001b[39m\u001b[34;01mpandas\u001b[39;00m\u001b[38;5;250m \u001b[39m\u001b[38;5;28;01mas\u001b[39;00m\u001b[38;5;250m \u001b[39m\u001b[34;01mpd\u001b[39;00m\n\u001b[32m----> \u001b[39m\u001b[32m2\u001b[39m df = \u001b[43mpd\u001b[49m\u001b[43m.\u001b[49m\u001b[43mread_sas\u001b[49m\u001b[43m(\u001b[49m\u001b[43mos\u001b[49m\u001b[43m.\u001b[49m\u001b[43mpath\u001b[49m\u001b[43m.\u001b[49m\u001b[43mjoin\u001b[49m\u001b[43m(\u001b[49m\u001b[43mdata_path\u001b[49m\u001b[43m,\u001b[49m\u001b[43m \u001b[49m\u001b[43munique_files\u001b[49m\u001b[43m[\u001b[49m\u001b[32;43m3\u001b[39;49m\u001b[43m]\u001b[49m\u001b[43m)\u001b[49m\u001b[43m)\u001b[49m\n\u001b[32m      3\u001b[39m counts = df[\u001b[33m\"\u001b[39m\u001b[33mSEQN\u001b[39m\u001b[33m\"\u001b[39m].value_counts()\n\u001b[32m      4\u001b[39m \u001b[38;5;28mprint\u001b[39m(\u001b[33mf\u001b[39m\u001b[33m\"\u001b[39m\u001b[33mcounts>1 =\u001b[39m\u001b[38;5;132;01m{\u001b[39;00mcounts[counts\u001b[38;5;250m \u001b[39m>\u001b[38;5;250m \u001b[39m\u001b[32m1\u001b[39m]\u001b[38;5;132;01m}\u001b[39;00m\u001b[33m\"\u001b[39m)\n",
      "\u001b[36mFile \u001b[39m\u001b[32m~/.local/share/virtualenvs/phenoage-regression-SQm2vM_8/lib/python3.12/site-packages/pandas/io/sas/sasreader.py:154\u001b[39m, in \u001b[36mread_sas\u001b[39m\u001b[34m(filepath_or_buffer, format, index, encoding, chunksize, iterator, compression)\u001b[39m\n\u001b[32m    151\u001b[39m \u001b[38;5;28;01mif\u001b[39;00m \u001b[38;5;28mformat\u001b[39m.lower() == \u001b[33m\"\u001b[39m\u001b[33mxport\u001b[39m\u001b[33m\"\u001b[39m:\n\u001b[32m    152\u001b[39m     \u001b[38;5;28;01mfrom\u001b[39;00m\u001b[38;5;250m \u001b[39m\u001b[34;01mpandas\u001b[39;00m\u001b[34;01m.\u001b[39;00m\u001b[34;01mio\u001b[39;00m\u001b[34;01m.\u001b[39;00m\u001b[34;01msas\u001b[39;00m\u001b[34;01m.\u001b[39;00m\u001b[34;01msas_xport\u001b[39;00m\u001b[38;5;250m \u001b[39m\u001b[38;5;28;01mimport\u001b[39;00m XportReader\n\u001b[32m--> \u001b[39m\u001b[32m154\u001b[39m     reader = \u001b[43mXportReader\u001b[49m\u001b[43m(\u001b[49m\n\u001b[32m    155\u001b[39m \u001b[43m        \u001b[49m\u001b[43mfilepath_or_buffer\u001b[49m\u001b[43m,\u001b[49m\n\u001b[32m    156\u001b[39m \u001b[43m        \u001b[49m\u001b[43mindex\u001b[49m\u001b[43m=\u001b[49m\u001b[43mindex\u001b[49m\u001b[43m,\u001b[49m\n\u001b[32m    157\u001b[39m \u001b[43m        \u001b[49m\u001b[43mencoding\u001b[49m\u001b[43m=\u001b[49m\u001b[43mencoding\u001b[49m\u001b[43m,\u001b[49m\n\u001b[32m    158\u001b[39m \u001b[43m        \u001b[49m\u001b[43mchunksize\u001b[49m\u001b[43m=\u001b[49m\u001b[43mchunksize\u001b[49m\u001b[43m,\u001b[49m\n\u001b[32m    159\u001b[39m \u001b[43m        \u001b[49m\u001b[43mcompression\u001b[49m\u001b[43m=\u001b[49m\u001b[43mcompression\u001b[49m\u001b[43m,\u001b[49m\n\u001b[32m    160\u001b[39m \u001b[43m    \u001b[49m\u001b[43m)\u001b[49m\n\u001b[32m    161\u001b[39m \u001b[38;5;28;01melif\u001b[39;00m \u001b[38;5;28mformat\u001b[39m.lower() == \u001b[33m\"\u001b[39m\u001b[33msas7bdat\u001b[39m\u001b[33m\"\u001b[39m:\n\u001b[32m    162\u001b[39m     \u001b[38;5;28;01mfrom\u001b[39;00m\u001b[38;5;250m \u001b[39m\u001b[34;01mpandas\u001b[39;00m\u001b[34;01m.\u001b[39;00m\u001b[34;01mio\u001b[39;00m\u001b[34;01m.\u001b[39;00m\u001b[34;01msas\u001b[39;00m\u001b[34;01m.\u001b[39;00m\u001b[34;01msas7bdat\u001b[39;00m\u001b[38;5;250m \u001b[39m\u001b[38;5;28;01mimport\u001b[39;00m SAS7BDATReader\n",
      "\u001b[36mFile \u001b[39m\u001b[32m~/.local/share/virtualenvs/phenoage-regression-SQm2vM_8/lib/python3.12/site-packages/pandas/io/sas/sas_xport.py:280\u001b[39m, in \u001b[36mXportReader.__init__\u001b[39m\u001b[34m(self, filepath_or_buffer, index, encoding, chunksize, compression)\u001b[39m\n\u001b[32m    277\u001b[39m \u001b[38;5;28mself\u001b[39m.filepath_or_buffer = \u001b[38;5;28mself\u001b[39m.handles.handle\n\u001b[32m    279\u001b[39m \u001b[38;5;28;01mtry\u001b[39;00m:\n\u001b[32m--> \u001b[39m\u001b[32m280\u001b[39m     \u001b[38;5;28;43mself\u001b[39;49m\u001b[43m.\u001b[49m\u001b[43m_read_header\u001b[49m\u001b[43m(\u001b[49m\u001b[43m)\u001b[49m\n\u001b[32m    281\u001b[39m \u001b[38;5;28;01mexcept\u001b[39;00m \u001b[38;5;167;01mException\u001b[39;00m:\n\u001b[32m    282\u001b[39m     \u001b[38;5;28mself\u001b[39m.close()\n",
      "\u001b[36mFile \u001b[39m\u001b[32m~/.local/share/virtualenvs/phenoage-regression-SQm2vM_8/lib/python3.12/site-packages/pandas/io/sas/sas_xport.py:303\u001b[39m, in \u001b[36mXportReader._read_header\u001b[39m\u001b[34m(self)\u001b[39m\n\u001b[32m    297\u001b[39m     \u001b[38;5;28;01mif\u001b[39;00m \u001b[33m\"\u001b[39m\u001b[33m**COMPRESSED**\u001b[39m\u001b[33m\"\u001b[39m \u001b[38;5;129;01min\u001b[39;00m line1:\n\u001b[32m    298\u001b[39m         \u001b[38;5;66;03m# this was created with the PROC CPORT method and can't be read\u001b[39;00m\n\u001b[32m    299\u001b[39m         \u001b[38;5;66;03m# https://documentation.sas.com/doc/en/pgmsascdc/9.4_3.5/movefile/p1bm6aqp3fw4uin1hucwh718f6kp.htm\u001b[39;00m\n\u001b[32m    300\u001b[39m         \u001b[38;5;28;01mraise\u001b[39;00m \u001b[38;5;167;01mValueError\u001b[39;00m(\n\u001b[32m    301\u001b[39m             \u001b[33m\"\u001b[39m\u001b[33mHeader record indicates a CPORT file, which is not readable.\u001b[39m\u001b[33m\"\u001b[39m\n\u001b[32m    302\u001b[39m         )\n\u001b[32m--> \u001b[39m\u001b[32m303\u001b[39m     \u001b[38;5;28;01mraise\u001b[39;00m \u001b[38;5;167;01mValueError\u001b[39;00m(\u001b[33m\"\u001b[39m\u001b[33mHeader record is not an XPORT file.\u001b[39m\u001b[33m\"\u001b[39m)\n\u001b[32m    305\u001b[39m line2 = \u001b[38;5;28mself\u001b[39m._get_row()\n\u001b[32m    306\u001b[39m fif = [[\u001b[33m\"\u001b[39m\u001b[33mprefix\u001b[39m\u001b[33m\"\u001b[39m, \u001b[32m24\u001b[39m], [\u001b[33m\"\u001b[39m\u001b[33mversion\u001b[39m\u001b[33m\"\u001b[39m, \u001b[32m8\u001b[39m], [\u001b[33m\"\u001b[39m\u001b[33mOS\u001b[39m\u001b[33m\"\u001b[39m, \u001b[32m8\u001b[39m], [\u001b[33m\"\u001b[39m\u001b[33m_\u001b[39m\u001b[33m\"\u001b[39m, \u001b[32m24\u001b[39m], [\u001b[33m\"\u001b[39m\u001b[33mcreated\u001b[39m\u001b[33m\"\u001b[39m, \u001b[32m16\u001b[39m]]\n",
      "\u001b[31mValueError\u001b[39m: Header record is not an XPORT file."
     ]
    }
   ],
   "source": [
    "import pandas as pd\n",
    "df = pd.read_sas(os.path.join(data_path, unique_files[3]))\n",
    "counts = df[\"SEQN\"].value_counts()\n",
    "print(f\"counts>1 ={counts[counts > 1]}\")\n",
    "print(f\"number of counts>1 is: {len(counts[counts > 1])}\")"
   ]
  },
  {
   "cell_type": "code",
   "execution_count": null,
   "id": "7e9d04ba",
   "metadata": {},
   "outputs": [
    {
     "ename": "ValueError",
     "evalue": "Header record is not an XPORT file.",
     "output_type": "error",
     "traceback": [
      "\u001b[31m---------------------------------------------------------------------------\u001b[39m",
      "\u001b[31mValueError\u001b[39m                                Traceback (most recent call last)",
      "\u001b[36mCell\u001b[39m\u001b[36m \u001b[39m\u001b[32mIn[16]\u001b[39m\u001b[32m, line 2\u001b[39m\n\u001b[32m      1\u001b[39m \u001b[38;5;66;03m# try to merge based on SEQN/patient\u001b[39;00m\n\u001b[32m----> \u001b[39m\u001b[32m2\u001b[39m raw_dfs = [ \u001b[43mpd\u001b[49m\u001b[43m.\u001b[49m\u001b[43mread_sas\u001b[49m\u001b[43m(\u001b[49m\u001b[43mos\u001b[49m\u001b[43m.\u001b[49m\u001b[43mpath\u001b[49m\u001b[43m.\u001b[49m\u001b[43mjoin\u001b[49m\u001b[43m(\u001b[49m\u001b[43mdata_path\u001b[49m\u001b[43m,\u001b[49m\u001b[43m \u001b[49m\u001b[43mfile\u001b[49m\u001b[43m)\u001b[49m\u001b[43m)\u001b[49m \u001b[38;5;28;01mfor\u001b[39;00m file \u001b[38;5;129;01min\u001b[39;00m unique_files ]\n\u001b[32m      3\u001b[39m result_df = raw_dfs[\u001b[32m0\u001b[39m]\n\u001b[32m      4\u001b[39m \u001b[38;5;28;01mfor\u001b[39;00m raw_df \u001b[38;5;129;01min\u001b[39;00m raw_dfs[\u001b[32m1\u001b[39m:]:\n",
      "\u001b[36mFile \u001b[39m\u001b[32m~/.local/share/virtualenvs/phenoage-regression-SQm2vM_8/lib/python3.12/site-packages/pandas/io/sas/sasreader.py:154\u001b[39m, in \u001b[36mread_sas\u001b[39m\u001b[34m(filepath_or_buffer, format, index, encoding, chunksize, iterator, compression)\u001b[39m\n\u001b[32m    151\u001b[39m \u001b[38;5;28;01mif\u001b[39;00m \u001b[38;5;28mformat\u001b[39m.lower() == \u001b[33m\"\u001b[39m\u001b[33mxport\u001b[39m\u001b[33m\"\u001b[39m:\n\u001b[32m    152\u001b[39m     \u001b[38;5;28;01mfrom\u001b[39;00m\u001b[38;5;250m \u001b[39m\u001b[34;01mpandas\u001b[39;00m\u001b[34;01m.\u001b[39;00m\u001b[34;01mio\u001b[39;00m\u001b[34;01m.\u001b[39;00m\u001b[34;01msas\u001b[39;00m\u001b[34;01m.\u001b[39;00m\u001b[34;01msas_xport\u001b[39;00m\u001b[38;5;250m \u001b[39m\u001b[38;5;28;01mimport\u001b[39;00m XportReader\n\u001b[32m--> \u001b[39m\u001b[32m154\u001b[39m     reader = \u001b[43mXportReader\u001b[49m\u001b[43m(\u001b[49m\n\u001b[32m    155\u001b[39m \u001b[43m        \u001b[49m\u001b[43mfilepath_or_buffer\u001b[49m\u001b[43m,\u001b[49m\n\u001b[32m    156\u001b[39m \u001b[43m        \u001b[49m\u001b[43mindex\u001b[49m\u001b[43m=\u001b[49m\u001b[43mindex\u001b[49m\u001b[43m,\u001b[49m\n\u001b[32m    157\u001b[39m \u001b[43m        \u001b[49m\u001b[43mencoding\u001b[49m\u001b[43m=\u001b[49m\u001b[43mencoding\u001b[49m\u001b[43m,\u001b[49m\n\u001b[32m    158\u001b[39m \u001b[43m        \u001b[49m\u001b[43mchunksize\u001b[49m\u001b[43m=\u001b[49m\u001b[43mchunksize\u001b[49m\u001b[43m,\u001b[49m\n\u001b[32m    159\u001b[39m \u001b[43m        \u001b[49m\u001b[43mcompression\u001b[49m\u001b[43m=\u001b[49m\u001b[43mcompression\u001b[49m\u001b[43m,\u001b[49m\n\u001b[32m    160\u001b[39m \u001b[43m    \u001b[49m\u001b[43m)\u001b[49m\n\u001b[32m    161\u001b[39m \u001b[38;5;28;01melif\u001b[39;00m \u001b[38;5;28mformat\u001b[39m.lower() == \u001b[33m\"\u001b[39m\u001b[33msas7bdat\u001b[39m\u001b[33m\"\u001b[39m:\n\u001b[32m    162\u001b[39m     \u001b[38;5;28;01mfrom\u001b[39;00m\u001b[38;5;250m \u001b[39m\u001b[34;01mpandas\u001b[39;00m\u001b[34;01m.\u001b[39;00m\u001b[34;01mio\u001b[39;00m\u001b[34;01m.\u001b[39;00m\u001b[34;01msas\u001b[39;00m\u001b[34;01m.\u001b[39;00m\u001b[34;01msas7bdat\u001b[39;00m\u001b[38;5;250m \u001b[39m\u001b[38;5;28;01mimport\u001b[39;00m SAS7BDATReader\n",
      "\u001b[36mFile \u001b[39m\u001b[32m~/.local/share/virtualenvs/phenoage-regression-SQm2vM_8/lib/python3.12/site-packages/pandas/io/sas/sas_xport.py:280\u001b[39m, in \u001b[36mXportReader.__init__\u001b[39m\u001b[34m(self, filepath_or_buffer, index, encoding, chunksize, compression)\u001b[39m\n\u001b[32m    277\u001b[39m \u001b[38;5;28mself\u001b[39m.filepath_or_buffer = \u001b[38;5;28mself\u001b[39m.handles.handle\n\u001b[32m    279\u001b[39m \u001b[38;5;28;01mtry\u001b[39;00m:\n\u001b[32m--> \u001b[39m\u001b[32m280\u001b[39m     \u001b[38;5;28;43mself\u001b[39;49m\u001b[43m.\u001b[49m\u001b[43m_read_header\u001b[49m\u001b[43m(\u001b[49m\u001b[43m)\u001b[49m\n\u001b[32m    281\u001b[39m \u001b[38;5;28;01mexcept\u001b[39;00m \u001b[38;5;167;01mException\u001b[39;00m:\n\u001b[32m    282\u001b[39m     \u001b[38;5;28mself\u001b[39m.close()\n",
      "\u001b[36mFile \u001b[39m\u001b[32m~/.local/share/virtualenvs/phenoage-regression-SQm2vM_8/lib/python3.12/site-packages/pandas/io/sas/sas_xport.py:303\u001b[39m, in \u001b[36mXportReader._read_header\u001b[39m\u001b[34m(self)\u001b[39m\n\u001b[32m    297\u001b[39m     \u001b[38;5;28;01mif\u001b[39;00m \u001b[33m\"\u001b[39m\u001b[33m**COMPRESSED**\u001b[39m\u001b[33m\"\u001b[39m \u001b[38;5;129;01min\u001b[39;00m line1:\n\u001b[32m    298\u001b[39m         \u001b[38;5;66;03m# this was created with the PROC CPORT method and can't be read\u001b[39;00m\n\u001b[32m    299\u001b[39m         \u001b[38;5;66;03m# https://documentation.sas.com/doc/en/pgmsascdc/9.4_3.5/movefile/p1bm6aqp3fw4uin1hucwh718f6kp.htm\u001b[39;00m\n\u001b[32m    300\u001b[39m         \u001b[38;5;28;01mraise\u001b[39;00m \u001b[38;5;167;01mValueError\u001b[39;00m(\n\u001b[32m    301\u001b[39m             \u001b[33m\"\u001b[39m\u001b[33mHeader record indicates a CPORT file, which is not readable.\u001b[39m\u001b[33m\"\u001b[39m\n\u001b[32m    302\u001b[39m         )\n\u001b[32m--> \u001b[39m\u001b[32m303\u001b[39m     \u001b[38;5;28;01mraise\u001b[39;00m \u001b[38;5;167;01mValueError\u001b[39;00m(\u001b[33m\"\u001b[39m\u001b[33mHeader record is not an XPORT file.\u001b[39m\u001b[33m\"\u001b[39m)\n\u001b[32m    305\u001b[39m line2 = \u001b[38;5;28mself\u001b[39m._get_row()\n\u001b[32m    306\u001b[39m fif = [[\u001b[33m\"\u001b[39m\u001b[33mprefix\u001b[39m\u001b[33m\"\u001b[39m, \u001b[32m24\u001b[39m], [\u001b[33m\"\u001b[39m\u001b[33mversion\u001b[39m\u001b[33m\"\u001b[39m, \u001b[32m8\u001b[39m], [\u001b[33m\"\u001b[39m\u001b[33mOS\u001b[39m\u001b[33m\"\u001b[39m, \u001b[32m8\u001b[39m], [\u001b[33m\"\u001b[39m\u001b[33m_\u001b[39m\u001b[33m\"\u001b[39m, \u001b[32m24\u001b[39m], [\u001b[33m\"\u001b[39m\u001b[33mcreated\u001b[39m\u001b[33m\"\u001b[39m, \u001b[32m16\u001b[39m]]\n",
      "\u001b[31mValueError\u001b[39m: Header record is not an XPORT file."
     ]
    }
   ],
   "source": [
    "# try to merge based on SEQN/patient\n",
    "raw_dfs = [ pd.read_sas(os.path.join(data_path, file)) for file in unique_files ]\n",
    "result_df = raw_dfs[0]\n",
    "for raw_df in raw_dfs[1:]:\n",
    "    result_df = result_df.merge(raw_df, on=\"SEQN\")\n",
    "result_df.describe()"
   ]
  }
 ],
 "metadata": {
  "kernelspec": {
   "display_name": "phenoage-regression-SQm2vM_8",
   "language": "python",
   "name": "python3"
  },
  "language_info": {
   "codemirror_mode": {
    "name": "ipython",
    "version": 3
   },
   "file_extension": ".py",
   "mimetype": "text/x-python",
   "name": "python",
   "nbconvert_exporter": "python",
   "pygments_lexer": "ipython3",
   "version": "3.12.3"
  }
 },
 "nbformat": 4,
 "nbformat_minor": 5
}
